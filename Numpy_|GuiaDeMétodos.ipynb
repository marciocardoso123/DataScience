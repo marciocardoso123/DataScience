{
  "cells": [
    {
      "cell_type": "markdown",
      "metadata": {
        "id": "view-in-github",
        "colab_type": "text"
      },
      "source": [
        "<a href=\"https://colab.research.google.com/github/marciocardoso123/DataScience/blob/main/Numpy_%7CGuiaDeM%C3%A9todos.ipynb\" target=\"_parent\"><img src=\"https://colab.research.google.com/assets/colab-badge.svg\" alt=\"Open In Colab\"/></a>"
      ]
    },
    {
      "cell_type": "markdown",
      "metadata": {
        "id": "58jWNXecbpv9"
      },
      "source": [
        "# Aula 05 - Métodos Importantes e Máscaras em Arrays\n",
        "\n",
        "1. Métodos Importantes\n",
        "    - ndim  >>  dimenção\n",
        "    - shape >> tamanho\n",
        "    - dtype >> tipo de dado\n",
        "    - astype  >> denfinir novo tipo para array\n",
        "    - min  >>  elemento minimo\n",
        "    - max  >>  elemento máximo\n",
        "    - argmin  >>  descobrir a posição do menor elemento\n",
        "    - argmax  >>  descobrir a posição do maior elemento\n",
        "    - sum >> soma\n",
        "    - mean  >>  media\n",
        "    - var  >>  variância\n",
        "    - std  >>  desvio padrão\n",
        "    - sort  >>  ordenar array\n",
        "    - T  >>  transposição da matrix onde é linha vira coluna\n",
        "    - reshape  >>  \n",
        "\n",
        "2. Máscaras  >>  cria array boleano que define as posições do array todos elementos maiores que o prim elementos ou iguais  3   [a>=3]\n",
        "todos elementos que são divisiveis por 2  [a%2==0]"
      ]
    },
    {
      "cell_type": "code",
      "execution_count": null,
      "metadata": {
        "id": "uLgWogjpbpwE"
      },
      "outputs": [],
      "source": [
        "import numpy as np"
      ]
    },
    {
      "cell_type": "code",
      "execution_count": null,
      "metadata": {
        "id": "3KixnbmxbpwH"
      },
      "outputs": [],
      "source": [
        "array = np.random.randn(10)"
      ]
    },
    {
      "cell_type": "code",
      "execution_count": null,
      "metadata": {
        "id": "N-ceDJa3bpwI",
        "outputId": "50535999-2007-43ec-8241-e6106fad215e"
      },
      "outputs": [
        {
          "data": {
            "text/plain": [
              "array([ 0.08750322,  0.21183463, -0.53803631, -0.53525066, -0.35165849,\n",
              "        0.25678342, -0.17898542,  1.64678876,  1.38647428,  0.7402866 ])"
            ]
          },
          "execution_count": 4,
          "metadata": {},
          "output_type": "execute_result"
        }
      ],
      "source": [
        "array"
      ]
    },
    {
      "cell_type": "code",
      "execution_count": null,
      "metadata": {
        "id": "LSZ4wMTpbpwK"
      },
      "outputs": [],
      "source": [
        "mtx = np.random.randn(3, 3)"
      ]
    },
    {
      "cell_type": "code",
      "execution_count": null,
      "metadata": {
        "id": "HVHIZQxObpwL",
        "outputId": "3b7ec56e-05a3-4d2d-87fe-e7d7ba492df1"
      },
      "outputs": [
        {
          "data": {
            "text/plain": [
              "array([[-0.16818146,  1.60420931, -0.28131795],\n",
              "       [-0.60660859, -1.62667801,  1.31636158],\n",
              "       [ 0.92640001, -0.15887591,  1.39391814]])"
            ]
          },
          "execution_count": 6,
          "metadata": {},
          "output_type": "execute_result"
        }
      ],
      "source": [
        "mtx"
      ]
    },
    {
      "cell_type": "code",
      "execution_count": null,
      "metadata": {
        "id": "Om-dr_AObpwL",
        "outputId": "38a48ef8-73b3-44cb-835b-d35c404f300f"
      },
      "outputs": [
        {
          "data": {
            "text/plain": [
              "1"
            ]
          },
          "execution_count": 7,
          "metadata": {},
          "output_type": "execute_result"
        }
      ],
      "source": [
        "array.ndim"
      ]
    },
    {
      "cell_type": "code",
      "execution_count": null,
      "metadata": {
        "id": "cGGLDR2fbpwN",
        "outputId": "7497ae28-2f9f-4d00-892c-bd9589c7fd9d"
      },
      "outputs": [
        {
          "data": {
            "text/plain": [
              "2"
            ]
          },
          "execution_count": 8,
          "metadata": {},
          "output_type": "execute_result"
        }
      ],
      "source": [
        "mtx.ndim"
      ]
    },
    {
      "cell_type": "code",
      "execution_count": null,
      "metadata": {
        "id": "0tKyscdjbpwO",
        "outputId": "8ab24eda-998e-4550-a94d-6d08d54ab790"
      },
      "outputs": [
        {
          "data": {
            "text/plain": [
              "(10,)"
            ]
          },
          "execution_count": 9,
          "metadata": {},
          "output_type": "execute_result"
        }
      ],
      "source": [
        "array.shape"
      ]
    },
    {
      "cell_type": "code",
      "execution_count": null,
      "metadata": {
        "id": "6IbdwQg4bpwP",
        "outputId": "4910d845-0598-4229-b2cc-fc8f367740b6"
      },
      "outputs": [
        {
          "data": {
            "text/plain": [
              "(3, 3)"
            ]
          },
          "execution_count": 10,
          "metadata": {},
          "output_type": "execute_result"
        }
      ],
      "source": [
        "mtx.shape"
      ]
    },
    {
      "cell_type": "code",
      "execution_count": null,
      "metadata": {
        "id": "CIjnZLMXbpwP",
        "outputId": "4bbfd7a2-fcfb-4510-f867-ff5145be1e83"
      },
      "outputs": [
        {
          "data": {
            "text/plain": [
              "dtype('float64')"
            ]
          },
          "execution_count": 11,
          "metadata": {},
          "output_type": "execute_result"
        }
      ],
      "source": [
        "array.dtype"
      ]
    },
    {
      "cell_type": "code",
      "execution_count": null,
      "metadata": {
        "id": "dwmptah4bpwQ",
        "outputId": "ac2c280d-6ab2-438d-aa6c-aedd8af1f6a2"
      },
      "outputs": [
        {
          "data": {
            "text/plain": [
              "array([0, 0, 0, 0, 0, 0, 0, 1, 1, 0])"
            ]
          },
          "execution_count": 12,
          "metadata": {},
          "output_type": "execute_result"
        }
      ],
      "source": [
        "array.astype('int')"
      ]
    },
    {
      "cell_type": "code",
      "execution_count": null,
      "metadata": {
        "id": "zicAwMXabpwR",
        "outputId": "7e8bc686-eaa5-42f1-e624-0712e8422f36"
      },
      "outputs": [
        {
          "data": {
            "text/plain": [
              "array([[ 0,  1,  0],\n",
              "       [ 0, -1,  1],\n",
              "       [ 0,  0,  1]])"
            ]
          },
          "execution_count": 13,
          "metadata": {},
          "output_type": "execute_result"
        }
      ],
      "source": [
        "mtx.astype('int')"
      ]
    },
    {
      "cell_type": "code",
      "execution_count": null,
      "metadata": {
        "id": "2Y3hvbWGbpwR",
        "outputId": "9fd3ff2a-2bb9-4630-e85c-5443fb52a862"
      },
      "outputs": [
        {
          "data": {
            "text/plain": [
              "array([ True,  True,  True,  True,  True,  True,  True,  True,  True,\n",
              "        True])"
            ]
          },
          "execution_count": 14,
          "metadata": {},
          "output_type": "execute_result"
        }
      ],
      "source": [
        "array.astype('bool')"
      ]
    },
    {
      "cell_type": "code",
      "execution_count": null,
      "metadata": {
        "id": "Od1fFsRHbpwS",
        "outputId": "7da4f49a-ef7e-428e-f878-b32845415642"
      },
      "outputs": [
        {
          "data": {
            "text/plain": [
              "array([ 0.08750322,  0.21183463,  0.        , -0.53525066, -0.35165849,\n",
              "        0.25678342, -0.17898542,  1.64678876,  1.38647428,  0.7402866 ])"
            ]
          },
          "execution_count": 15,
          "metadata": {},
          "output_type": "execute_result"
        }
      ],
      "source": [
        "array[2] = 0\n",
        "array"
      ]
    },
    {
      "cell_type": "code",
      "execution_count": null,
      "metadata": {
        "id": "lN5ixL5ubpwT",
        "outputId": "d7b30f55-3d9b-46e4-9a9e-21e239eb7dcc"
      },
      "outputs": [
        {
          "data": {
            "text/plain": [
              "array([ True,  True, False,  True,  True,  True,  True,  True,  True,\n",
              "        True])"
            ]
          },
          "execution_count": 16,
          "metadata": {},
          "output_type": "execute_result"
        }
      ],
      "source": [
        "array.astype('bool')"
      ]
    },
    {
      "cell_type": "code",
      "execution_count": null,
      "metadata": {
        "id": "XSM4mo13bpwT",
        "outputId": "988a5d9e-7bcb-41a7-94f0-f463738935b1"
      },
      "outputs": [
        {
          "data": {
            "text/plain": [
              "-0.5352506573560943"
            ]
          },
          "execution_count": 17,
          "metadata": {},
          "output_type": "execute_result"
        }
      ],
      "source": [
        "array.min()"
      ]
    },
    {
      "cell_type": "code",
      "execution_count": null,
      "metadata": {
        "id": "fXYIiWttbpwU",
        "outputId": "dd82f170-20b9-4263-ae96-ea69338e26d0"
      },
      "outputs": [
        {
          "data": {
            "text/plain": [
              "1.6467887634841545"
            ]
          },
          "execution_count": 18,
          "metadata": {},
          "output_type": "execute_result"
        }
      ],
      "source": [
        "array.max()"
      ]
    },
    {
      "cell_type": "code",
      "execution_count": null,
      "metadata": {
        "id": "VT9rqW2ybpwU",
        "outputId": "30f0a95f-6dcc-4b16-db27-2f957ad58cd6"
      },
      "outputs": [
        {
          "data": {
            "text/plain": [
              "7"
            ]
          },
          "execution_count": 19,
          "metadata": {},
          "output_type": "execute_result"
        }
      ],
      "source": [
        "array.argmax()"
      ]
    },
    {
      "cell_type": "code",
      "execution_count": null,
      "metadata": {
        "id": "74bF-9DbbpwV",
        "outputId": "a534403f-6880-49b4-effa-df8370d04330"
      },
      "outputs": [
        {
          "data": {
            "text/plain": [
              "3"
            ]
          },
          "execution_count": 20,
          "metadata": {},
          "output_type": "execute_result"
        }
      ],
      "source": [
        "array.argmin()"
      ]
    },
    {
      "cell_type": "code",
      "execution_count": null,
      "metadata": {
        "id": "I13EFlyQbpwV",
        "outputId": "673ab399-9329-49e7-e4a8-a15095dd5d69"
      },
      "outputs": [
        {
          "data": {
            "text/plain": [
              "0.3263776334002013"
            ]
          },
          "execution_count": 21,
          "metadata": {},
          "output_type": "execute_result"
        }
      ],
      "source": [
        "array.mean()"
      ]
    },
    {
      "cell_type": "code",
      "execution_count": null,
      "metadata": {
        "id": "DY2cyWPdbpwW",
        "outputId": "5ad88c22-8bc8-48c6-959b-5d557aa742c9"
      },
      "outputs": [
        {
          "data": {
            "text/plain": [
              "3.263776334002013"
            ]
          },
          "execution_count": 22,
          "metadata": {},
          "output_type": "execute_result"
        }
      ],
      "source": [
        "array.sum()"
      ]
    },
    {
      "cell_type": "code",
      "execution_count": null,
      "metadata": {
        "id": "yUplpiNybpwW",
        "outputId": "f48a0cd3-c3f8-4aa7-f4df-ab4264b57814"
      },
      "outputs": [
        {
          "data": {
            "text/plain": [
              "0.4677685990228955"
            ]
          },
          "execution_count": 23,
          "metadata": {},
          "output_type": "execute_result"
        }
      ],
      "source": [
        "array.var()"
      ]
    },
    {
      "cell_type": "code",
      "execution_count": null,
      "metadata": {
        "id": "dRsE6l3ObpwX",
        "outputId": "e8fcd692-b440-4837-8c66-10a611b995cc"
      },
      "outputs": [
        {
          "data": {
            "text/plain": [
              "0.6839361074127432"
            ]
          },
          "execution_count": 24,
          "metadata": {},
          "output_type": "execute_result"
        }
      ],
      "source": [
        "array.std()"
      ]
    },
    {
      "cell_type": "code",
      "execution_count": null,
      "metadata": {
        "id": "xD8QfVqpbpwX",
        "outputId": "3b158fe5-84b2-4087-99ce-13e60c6d8864"
      },
      "outputs": [
        {
          "data": {
            "text/plain": [
              "3.263776334002013"
            ]
          },
          "execution_count": 25,
          "metadata": {},
          "output_type": "execute_result"
        }
      ],
      "source": [
        "np.sum(array)"
      ]
    },
    {
      "cell_type": "code",
      "execution_count": null,
      "metadata": {
        "id": "b2mO83AqbpwX",
        "outputId": "3b74386f-fd1c-43c2-968c-e9d13be58c87"
      },
      "outputs": [
        {
          "data": {
            "text/plain": [
              "array([ 0.08750322,  0.21183463,  0.        , -0.53525066, -0.35165849,\n",
              "        0.25678342, -0.17898542,  1.64678876,  1.38647428,  0.7402866 ])"
            ]
          },
          "execution_count": 26,
          "metadata": {},
          "output_type": "execute_result"
        }
      ],
      "source": [
        "array"
      ]
    },
    {
      "cell_type": "code",
      "execution_count": null,
      "metadata": {
        "id": "rl0iiGVsbpwY"
      },
      "outputs": [],
      "source": [
        "array.sort()"
      ]
    },
    {
      "cell_type": "code",
      "execution_count": null,
      "metadata": {
        "id": "VXUcaeD7bpwY",
        "outputId": "b5c58e6a-c56b-4435-af09-3b21686da2fc"
      },
      "outputs": [
        {
          "data": {
            "text/plain": [
              "array([-0.53525066, -0.35165849, -0.17898542,  0.        ,  0.08750322,\n",
              "        0.21183463,  0.25678342,  0.7402866 ,  1.38647428,  1.64678876])"
            ]
          },
          "execution_count": 28,
          "metadata": {},
          "output_type": "execute_result"
        }
      ],
      "source": [
        "array"
      ]
    },
    {
      "cell_type": "code",
      "execution_count": null,
      "metadata": {
        "id": "l6QHCg_IbpwZ",
        "outputId": "f69d2b3d-6197-4e89-df8d-1210e4fb8d0a"
      },
      "outputs": [
        {
          "data": {
            "text/plain": [
              "array([[-0.16818146,  1.60420931, -0.28131795],\n",
              "       [-0.60660859, -1.62667801,  1.31636158],\n",
              "       [ 0.92640001, -0.15887591,  1.39391814]])"
            ]
          },
          "execution_count": 29,
          "metadata": {},
          "output_type": "execute_result"
        }
      ],
      "source": [
        "mtx"
      ]
    },
    {
      "cell_type": "code",
      "execution_count": null,
      "metadata": {
        "id": "dfTDqbTEbpwZ",
        "outputId": "44335f27-31c9-4e77-f163-db718d730fb3"
      },
      "outputs": [
        {
          "data": {
            "text/plain": [
              "array([[-0.16818146, -0.60660859,  0.92640001],\n",
              "       [ 1.60420931, -1.62667801, -0.15887591],\n",
              "       [-0.28131795,  1.31636158,  1.39391814]])"
            ]
          },
          "execution_count": 30,
          "metadata": {},
          "output_type": "execute_result"
        }
      ],
      "source": [
        "mtx.T"
      ]
    },
    {
      "cell_type": "markdown",
      "metadata": {
        "id": "OtRNmgYKbpwZ"
      },
      "source": [
        "## Máscaras"
      ]
    },
    {
      "cell_type": "code",
      "execution_count": null,
      "metadata": {
        "id": "FPzzGSSjbpwa"
      },
      "outputs": [],
      "source": [
        "a = np.array([1, 2, 3, 4])"
      ]
    },
    {
      "cell_type": "code",
      "execution_count": null,
      "metadata": {
        "id": "YKh1gk-xbpwa",
        "outputId": "617bd596-68aa-4a83-fc05-57936b1efb4c"
      },
      "outputs": [
        {
          "data": {
            "text/plain": [
              "array([2, 4])"
            ]
          },
          "execution_count": 32,
          "metadata": {},
          "output_type": "execute_result"
        }
      ],
      "source": [
        "a[[False, True, False, True]]"
      ]
    },
    {
      "cell_type": "code",
      "execution_count": null,
      "metadata": {
        "id": "fGbfD4QGbpwa",
        "outputId": "a9aacfe3-5dec-47b3-cd44-922c6144b0bb"
      },
      "outputs": [
        {
          "data": {
            "text/plain": [
              "array([False, False,  True,  True])"
            ]
          },
          "execution_count": 33,
          "metadata": {},
          "output_type": "execute_result"
        }
      ],
      "source": [
        "a >= 3"
      ]
    },
    {
      "cell_type": "code",
      "execution_count": null,
      "metadata": {
        "id": "GQBxIswTbpwb",
        "outputId": "72fba95b-599d-4e14-93f0-edbe6fc73cf3"
      },
      "outputs": [
        {
          "data": {
            "text/plain": [
              "array([3, 4])"
            ]
          },
          "execution_count": 34,
          "metadata": {},
          "output_type": "execute_result"
        }
      ],
      "source": [
        "a[a >= 3]"
      ]
    },
    {
      "cell_type": "code",
      "execution_count": null,
      "metadata": {
        "id": "FDJf8cJXbpwb",
        "outputId": "c731ce27-bb8b-432d-9c3e-dfff7a46f8ca"
      },
      "outputs": [
        {
          "data": {
            "text/plain": [
              "array([2, 4])"
            ]
          },
          "execution_count": 35,
          "metadata": {},
          "output_type": "execute_result"
        }
      ],
      "source": [
        "a[a % 2 == 0]"
      ]
    },
    {
      "cell_type": "code",
      "execution_count": null,
      "metadata": {
        "id": "zXYfR081bpwc",
        "outputId": "373546b5-34a6-49bd-9920-81cfabdef794"
      },
      "outputs": [
        {
          "data": {
            "text/plain": [
              "array([False,  True, False,  True])"
            ]
          },
          "execution_count": 36,
          "metadata": {},
          "output_type": "execute_result"
        }
      ],
      "source": [
        "a % 2 == 0"
      ]
    },
    {
      "cell_type": "code",
      "execution_count": null,
      "metadata": {
        "id": "93AoBzTqbpwc",
        "outputId": "a6234d62-ca46-4f80-c1ee-ca79c8250d90"
      },
      "outputs": [
        {
          "name": "stdout",
          "output_type": "stream",
          "text": [
            "[1 2 3 4]\n"
          ]
        }
      ],
      "source": [
        "print(a)"
      ]
    },
    {
      "cell_type": "code",
      "execution_count": null,
      "metadata": {
        "id": "Sj_KThB6bpwc"
      },
      "outputs": [],
      "source": [
        ""
      ]
    }
  ],
  "metadata": {
    "kernelspec": {
      "display_name": "Python 3",
      "language": "python",
      "name": "python3"
    },
    "language_info": {
      "codemirror_mode": {
        "name": "ipython",
        "version": 3
      },
      "file_extension": ".py",
      "mimetype": "text/x-python",
      "name": "python",
      "nbconvert_exporter": "python",
      "pygments_lexer": "ipython3",
      "version": "3.8.2"
    },
    "colab": {
      "name": "Numpy |GuiaDeMétodos.ipynb",
      "provenance": [],
      "collapsed_sections": [],
      "include_colab_link": true
    }
  },
  "nbformat": 4,
  "nbformat_minor": 0
}