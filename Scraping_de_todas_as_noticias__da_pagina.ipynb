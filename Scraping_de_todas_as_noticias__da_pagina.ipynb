{
  "nbformat": 4,
  "nbformat_minor": 0,
  "metadata": {
    "colab": {
      "name": "Scraping_de_todas_as_noticias _da_pagina.ipynb",
      "provenance": [],
      "collapsed_sections": [],
      "authorship_tag": "ABX9TyPO/V9s9w9Lc9jYuxIMGyfi",
      "include_colab_link": true
    },
    "kernelspec": {
      "name": "python3",
      "display_name": "Python 3"
    },
    "language_info": {
      "name": "python"
    }
  },
  "cells": [
    {
      "cell_type": "markdown",
      "metadata": {
        "id": "view-in-github",
        "colab_type": "text"
      },
      "source": [
        "<a href=\"https://colab.research.google.com/github/marciocardoso123/DataScience/blob/main/Scraping_de_todas_as_noticias__da_pagina.ipynb\" target=\"_parent\"><img src=\"https://colab.research.google.com/assets/colab-badge.svg\" alt=\"Open In Colab\"/></a>"
      ]
    },
    {
      "cell_type": "code",
      "execution_count": null,
      "metadata": {
        "id": "HBs3KPexDZwN"
      },
      "outputs": [],
      "source": [
        "import requests\n",
        "from bs4 import BeautifulSoup\n",
        "import pandas as pd\n",
        "\n",
        "lista_noticias = []\n",
        "\n",
        "response = requests.get('https://g1.globo.com/')\n",
        "\n",
        "content = response.content\n",
        "\n",
        "site = BeautifulSoup(content, 'html.parser')\n",
        "\n",
        "# HTML da notícia busca por todas as divs que tem o atributo class com nome 'feed-post-body'\n",
        "noticias = site.findAll('div', attrs={'class': 'feed-post-body'})\n",
        "\n",
        "\n",
        "#para cada noticia em noticias titulo = o atributo class com nome 'feed-post-link'\n",
        "for noticia in noticias:\n",
        "  # Título\n",
        "  titulo = noticia.find('a', attrs={'class': 'feed-post-link'})\n",
        "\n",
        "  # print(titulo.text)\n",
        "  # print(titulo['href']) # link da notícia\n",
        "\n",
        "  # Subtítulo: div class=\"feed-post-body-resumo\"\n",
        "  subtitulo = noticia.find('div', attrs={'class': 'feed-post-body-resumo'})\n",
        "  #se subtitulo existe print\n",
        "  if (subtitulo):\n",
        "    # print(subtitulo.text)\n",
        "\n",
        "    #Criando uma lista de lista com (titulo,subtitulo,link) e n tendo subtitulo pega titulo e link\n",
        "    lista_noticias.append([titulo.text, subtitulo.text, titulo['href']])\n",
        "  else:\n",
        "    lista_noticias.append([titulo.text, '', titulo['href']])\n",
        "\n",
        "#Criando df com pandas para consultas\n",
        "news = pd.DataFrame(lista_noticias, columns=['Título', 'Subtítulo', 'Link'])\n",
        "#criando doc excel\n",
        "news.to_excel('noticias.xlsx', index=False)\n",
        "news.to_csv('news.csv',index=False)\n",
        "print(news)"
      ]
    }
  ]
}