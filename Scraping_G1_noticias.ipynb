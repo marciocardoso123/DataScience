{
  "nbformat": 4,
  "nbformat_minor": 0,
  "metadata": {
    "colab": {
      "name": "Scraping_G1_noticias.ipynb",
      "provenance": [],
      "collapsed_sections": [],
      "authorship_tag": "ABX9TyM8U6HM2A5iiXffSfqj+MVj",
      "include_colab_link": true
    },
    "kernelspec": {
      "name": "python3",
      "display_name": "Python 3"
    },
    "language_info": {
      "name": "python"
    }
  },
  "cells": [
    {
      "cell_type": "markdown",
      "metadata": {
        "id": "view-in-github",
        "colab_type": "text"
      },
      "source": [
        "<a href=\"https://colab.research.google.com/github/marciocardoso123/DataScience/blob/main/Scraping_G1_noticias.ipynb\" target=\"_parent\"><img src=\"https://colab.research.google.com/assets/colab-badge.svg\" alt=\"Open In Colab\"/></a>"
      ]
    },
    {
      "cell_type": "code",
      "execution_count": null,
      "metadata": {
        "id": "kfY8f3uq2F16"
      },
      "outputs": [],
      "source": [
        "#Raspagem em Site de Noticia G1\n",
        "\n",
        "import requests\n",
        "from bs4 import BeautifulSoup\n",
        "\n",
        "response = requests.get('https://g1.globo.com/')\n",
        "\n",
        "content = response.content\n",
        "#print(content)\n",
        "\n",
        "#site = content no formato html para analise\n",
        "site = BeautifulSoup(content, 'html.parser')\n",
        "\n",
        "#monta a estrutura html para analise de algum ponto importante\n",
        "print(site.prettify())\n",
        "\n",
        "# Analisando HTML da div notícia que está no atributo\n",
        "noticia = site.find('div', attrs={'class': 'feed-post-body'})\n",
        "print(noticia.prettify())\n",
        "\n",
        "#Fazendo busca expecifica com find pelo nome da class\n",
        "site.find\n",
        "# Título\n",
        "titulo = noticia.find('a', attrs={'class': 'feed-post-link'})\n",
        "print(titulo.text)\n",
        "\n",
        "# Subtítulo da notícia \n",
        "subtitulo = noticia.find('div', attrs={'class': 'feed-post-body-resumo'})\n",
        "\n",
        "print(subtitulo)"
      ]
    },
    {
      "cell_type": "code",
      "source": [
        ""
      ],
      "metadata": {
        "id": "ilnGGP_22JdA"
      },
      "execution_count": null,
      "outputs": []
    },
    {
      "cell_type": "code",
      "source": [
        ""
      ],
      "metadata": {
        "id": "UGR2BXvz2JZG"
      },
      "execution_count": null,
      "outputs": []
    },
    {
      "cell_type": "code",
      "source": [
        ""
      ],
      "metadata": {
        "id": "pAzxnwzo2JVO"
      },
      "execution_count": null,
      "outputs": []
    }
  ]
}