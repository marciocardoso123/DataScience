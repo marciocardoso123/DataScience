{
  "nbformat": 4,
  "nbformat_minor": 0,
  "metadata": {
    "colab": {
      "name": "ProjetoSaraiva.ipynb",
      "provenance": [],
      "collapsed_sections": [],
      "authorship_tag": "ABX9TyO1lxrqZt+UH7HNWUtBVSzm",
      "include_colab_link": true
    },
    "kernelspec": {
      "name": "python3",
      "display_name": "Python 3"
    },
    "language_info": {
      "name": "python"
    }
  },
  "cells": [
    {
      "cell_type": "markdown",
      "metadata": {
        "id": "view-in-github",
        "colab_type": "text"
      },
      "source": [
        "<a href=\"https://colab.research.google.com/github/marciocardoso123/DataScience/blob/main/ProjetoSaraiva.ipynb\" target=\"_parent\"><img src=\"https://colab.research.google.com/assets/colab-badge.svg\" alt=\"Open In Colab\"/></a>"
      ]
    },
    {
      "cell_type": "code",
      "execution_count": null,
      "metadata": {
        "id": "m-VHOzRPENgy"
      },
      "outputs": [],
      "source": [
        "#Projeto scraping editora saraiva\n",
        "#baixando conteudo da pagina \n",
        "import requests\n",
        "from bs4 import BeautifulSoup\n",
        "\n",
        "#metodo get para pegar url e nome-livro\n",
        "def get_http(url, nome_livro):\n",
        "\n",
        "\n",
        "#Na variavel nome_livro onde tiver ' ' em branco deve receber %20\n",
        "\tnome_livro = nome_livro.replace(' ', '%20')\n",
        " \n",
        "#url = {0} para url e {1} para nome_ivro\n",
        "\turl = '{0}?q={1}'.format(url, nome_livro)\n",
        "\n",
        "#tratamento de excessoes\n",
        "\ttry:\n",
        "\t\treturn requests.get(url)\n",
        "\texcept (requests.exceptions.HTTPError,\n",
        "          requests.exceptions.RequestException,\n",
        "\t\t\t\t  requests.excepetions.ConnectionError,\n",
        "          requests.exceptions.Timeout) as e:\n",
        "\t\tprint(str(e))\n",
        "\t\tpass\n",
        "\texcept Exception as e:\n",
        "\t\traise\n",
        "\n",
        "if __name__ == '__main__':\n",
        "\n",
        "\turl = 'http://busca.saraiva.com.br/'\n",
        "\tnome_livro = 'redes de computadores'\n",
        "\n",
        "\tr = get_http(url, nome_livro)\n",
        "\n",
        "\twith open('result.html', 'w') as f:\n",
        "\t\tf.write(r.text)"
      ]
    },
    {
      "cell_type": "code",
      "source": [
        "#Obtendo a lista dos produtos com url e nome\n",
        "'''\n",
        "import requests\n",
        "from bs4 import BeautifulSoup\n",
        "\n",
        "def get_http(url, nome_livro):\n",
        "\n",
        "\tnome_livro = nome_livro.replace(' ', '%20')\n",
        "\turl = '{0}?q={1}'.format(url, nome_livro)\n",
        "\n",
        "\ttry:\n",
        "\t\treturn requests.get(url)\n",
        "\texcept (requests.exceptions.HTTPError, requests.exceptions.RequestException,\n",
        "\t\t\t\trequests.excepetions.ConnectionError, requests.exceptions.Timeout) as e:\n",
        "\t\tprint(str(e))\n",
        "\t\tpass\n",
        "\texcept Exception as e:\n",
        "\t\traise\n",
        "'''\n",
        "###\n",
        "#para encontrar a url e o nome dos produtos\n",
        "#crio a função get conteudo\n",
        "#depois armazeno em soup lxml da pagina\n",
        "#produtos =recebe tudo que contem na div class de nome  'cs-list-container'\n",
        "def get_produtos(content):\n",
        "\n",
        "\tsoup = BeautifulSoup(content, 'lxml')\n",
        "\tprodutos = soup.find_all('div', {'class':'cs-list-container'})\n",
        "\n",
        "#crio a lista_produtos que recebe tudo de produtos\n",
        "#e crio uma lista da lista_produtos com as URL e Nome dos produtos que será chamada de info_produtos\n",
        "\tlista_produtos = []\n",
        "\tfor produto in produtos:\n",
        "\t\tinfo_produto = [produto.a.get('href'), produto.a.string] #<< info produto = tag a.get('href) que tem URL e produto.string para nome\n",
        "\t\tlista_produtos.append(info_produto)\n",
        "\treturn lista_produtos\n",
        "\n",
        "\n",
        "if __name__ == '__main__':\n",
        "\n",
        "\turl = 'http://busca.saraiva.com.br/'\n",
        "\tnome_livro = 'redes de computadores'\n",
        "\n",
        "\tr = get_http(url, nome_livro)\n",
        "\n",
        "\tif r:\n",
        "\t\tlista_produtos = get_produtos(r.text)\n",
        "\t\tprint(lista_produtos)"
      ],
      "metadata": {
        "colab": {
          "base_uri": "https://localhost:8080/"
        },
        "id": "3dOagwNJFsaK",
        "outputId": "ca9ef4e4-8b22-4955-91f8-534d293b62e1"
      },
      "execution_count": null,
      "outputs": [
        {
          "output_type": "stream",
          "name": "stdout",
          "text": [
            "[]\n"
          ]
        }
      ]
    },
    {
      "cell_type": "code",
      "source": [
        "#mechendo com o produto \n",
        "import requests\n",
        "from bs4 import BeautifulSoup\n",
        "\n",
        "def get_http(url, nome_livro):\n",
        "\n",
        "\tnome_livro = nome_livro.replace(' ', '%20')\n",
        "\turl = '{0}?q={1}'.format(url, nome_livro)\n",
        "\n",
        "\ttry:\n",
        "\t\treturn requests.get(url)\n",
        "\texcept (requests.exceptions.HTTPError, requests.exceptions.RequestException,\n",
        "\t\t\t\trequests.exceptions.ConnectionError, requests.exceptions.Timeout) as e:\n",
        "\t\tprint(str(e))\n",
        "\texcept Exception as e:\n",
        "\t\traise\n",
        "\n",
        "def get_produtos(content):\n",
        "\n",
        "\tsoup = BeautifulSoup(content, 'lxml')\n",
        "\tprodutos = soup.find_all('div', {'class':'cs-list-container'})\n",
        "\n",
        "\tlista_produtos = []\n",
        "\tfor produto in produtos:\n",
        "\t\tinfo_produto = [produto.a.get('href'), produto.a.string]\n",
        "\t\tlista_produtos.append(info_produto)\n",
        "\treturn lista_produtos\n",
        "\n",
        "\n",
        "##\n",
        "#funcao que trata a pg do produto para pegar preço e\n",
        "\n",
        "def get_http_page_produto(lista_produtos):\n",
        "\n",
        "\tfor produto in lista_produtos:\n",
        "\n",
        "\t\ttry:\n",
        "#r recebe apenas a url nesta consulta\n",
        "\t\t\tr = requests.get(produto[0])\n",
        "\t\texcept (requests.exceptions.HTTPError, requests.exceptions.RequestException,\n",
        "\t\t\t\trequests.exceptions.ConnectionError, requests.exceptions.Timeout) as e:\n",
        "\t\t\tprint(str(e))\n",
        "\t\t\tr = None\n",
        "\t\texcept Exception as e:\n",
        "\t\t\traise \n",
        "#nesta requisição vms analisar o texto a url e nome do produto\n",
        "\t\tparse_page_produto(r.text, produto[0], produto[1])\n",
        "\t\tbreak\n",
        "\n",
        "def parse_page_produto(content, url_produto, titulo):\n",
        "\n",
        "\tsoup = BeautifulSoup(content, 'lxml')\n",
        "\twith open('result.html', 'w') as f:\n",
        "\t\tf.write(content)\n",
        "\n",
        "\n",
        "if __name__ == '__main__':\n",
        "\n",
        "\turl = 'http://busca.saraiva.com.br/'\n",
        "\tnome_livro = 'redes de computadores'\n",
        "\n",
        "\tr = get_http(url, nome_livro)\n",
        "\n",
        "\tif r:\n",
        "\t\tlista_produtos = get_produtos(r.text)\n",
        "\t\tget_http_page_produto(lista_produtos)"
      ],
      "metadata": {
        "id": "oDevLlcOFsXL"
      },
      "execution_count": 5,
      "outputs": []
    },
    {
      "cell_type": "code",
      "source": [
        "##Obtendo outros dados\n",
        "#\n",
        "'''\n",
        "import requests\n",
        "from bs4 import BeautifulSoup\n",
        "\n",
        "def get_http(url, nome_livro):\n",
        "\n",
        "\tnome_livro = nome_livro.replace(' ', '%20')\n",
        "\turl = '{0}?q={1}'.format(url, nome_livro)\n",
        "\n",
        "\ttry:\n",
        "\t\treturn requests.get(url)\n",
        "\texcept (requests.exceptions.HTTPError, requests.exceptions.RequestException,\n",
        "\t\t\t\trequests.exceptions.ConnectionError, requests.exceptions.Timeout) as e:\n",
        "\t\tprint(str(e))\n",
        "\texcept Exception as e:\n",
        "\t\traise\n",
        "\n",
        "def get_produtos(content):\n",
        "\n",
        "\tsoup = BeautifulSoup(content, 'lxml')\n",
        "\tprodutos = soup.find_all('div', {'class':'cs-list-container'})\n",
        "\n",
        "\tlista_produtos = []\n",
        "\tfor produto in produtos:\n",
        "\t\tinfo_produto = [produto.a.get('href'), produto.a.string]\n",
        "\t\tlista_produtos.append(info_produto)\n",
        "\treturn lista_produtos\n",
        "\n",
        "def get_http_page_produto(lista_produtos):\n",
        "\n",
        "\td = {}\n",
        "\tlista_prod = []\n",
        "\n",
        "\tfor produto in lista_produtos:\n",
        "\n",
        "\t\ttry:\n",
        "\t\t\tr = requests.get(produto[0])\n",
        "\t\texcept (requests.exceptions.HTTPError, requests.exceptions.RequestException,\n",
        "\t\t\t\trequests.exceptions.ConnectionError, requests.exceptions.Timeout) as e:\n",
        "\t\t\tprint(str(e))\n",
        "\t\t\tr = None\n",
        "\t\texcept Exception as e:\n",
        "\t\t\traise\n",
        "'''\n",
        "\t\td = parse_page_produto(r.text, produto[0], produto[1])\n",
        "\t\tlista_prod.append(d.copy())\n",
        "\n",
        "\treturn lista_prod\n",
        "\n",
        "\t\t\n",
        "#esta função está pegando dados gerais do produto\n",
        "def parse_page_produto(content, url_produto, titulo):\n",
        "\n",
        "\tsoup = BeautifulSoup(content, 'lxml')\n",
        "#função pega preço final\t\n",
        "\tdiv = soup.find('div', {'class':'container-product-image'})\n",
        "\turl_capa = div.a.img.get('src')\n",
        "\tpreco = soup.find('span', {'class':'final-price no-extras'})\n",
        "\n",
        "\td = {}\n",
        "\ttry:\n",
        "\t\tpreco = preco.string\n",
        "\t\td = {\n",
        "\t\t\t'titulo':titulo,\n",
        "\t\t\t'Preco':preco,\n",
        "\t\t\t'url_capa':url_capa,\n",
        "\t\t\t'url_produto':url_produto\n",
        "\t\t}\n",
        "\texcept AttributeError as e:\n",
        "\t\tpass\n",
        "\n",
        "\treturn d\n",
        "\n",
        "\n",
        "if __name__ == '__main__':\n",
        "\n",
        "\turl = 'http://busca.saraiva.com.br/'\n",
        "\tnome_livro = 'redes de computadores'\n",
        "\n",
        "\tr = get_http(url, nome_livro)\n",
        "\n",
        "\tif r:\n",
        "\t\tlista_produtos = get_produtos(r.text)\n",
        "\t\tlista = get_http_page_produto(lista_produtos)\n",
        "\t\tprint(lista)"
      ],
      "metadata": {
        "id": "Fx28J7uAFsUa"
      },
      "execution_count": null,
      "outputs": []
    },
    {
      "cell_type": "code",
      "source": [
        ""
      ],
      "metadata": {
        "id": "G5bbhZbUFsRF"
      },
      "execution_count": null,
      "outputs": []
    },
    {
      "cell_type": "code",
      "source": [
        ""
      ],
      "metadata": {
        "id": "_53G7AYLFsOF"
      },
      "execution_count": null,
      "outputs": []
    },
    {
      "cell_type": "code",
      "source": [
        ""
      ],
      "metadata": {
        "id": "A59Ip38nFsLA"
      },
      "execution_count": null,
      "outputs": []
    },
    {
      "cell_type": "code",
      "source": [
        ""
      ],
      "metadata": {
        "id": "zQP6iq19FsIY"
      },
      "execution_count": null,
      "outputs": []
    },
    {
      "cell_type": "code",
      "source": [
        ""
      ],
      "metadata": {
        "id": "cxBX36OfFsFW"
      },
      "execution_count": null,
      "outputs": []
    },
    {
      "cell_type": "code",
      "source": [
        ""
      ],
      "metadata": {
        "id": "ksxeIMQSFsCC"
      },
      "execution_count": null,
      "outputs": []
    },
    {
      "cell_type": "code",
      "source": [
        ""
      ],
      "metadata": {
        "id": "2-kxfVjnFr-x"
      },
      "execution_count": null,
      "outputs": []
    },
    {
      "cell_type": "code",
      "source": [
        ""
      ],
      "metadata": {
        "id": "Z21K0aLyFr73"
      },
      "execution_count": null,
      "outputs": []
    }
  ]
}