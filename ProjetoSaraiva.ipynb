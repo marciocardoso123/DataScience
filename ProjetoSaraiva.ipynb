{
  "nbformat": 4,
  "nbformat_minor": 0,
  "metadata": {
    "colab": {
      "name": "ProjetoSaraiva.ipynb",
      "provenance": [],
      "collapsed_sections": [],
      "authorship_tag": "ABX9TyNlfouzOGMazxC/BR7ueRTN",
      "include_colab_link": true
    },
    "kernelspec": {
      "name": "python3",
      "display_name": "Python 3"
    },
    "language_info": {
      "name": "python"
    }
  },
  "cells": [
    {
      "cell_type": "markdown",
      "metadata": {
        "id": "view-in-github",
        "colab_type": "text"
      },
      "source": [
        "<a href=\"https://colab.research.google.com/github/marciocardoso123/DataScience/blob/main/ProjetoSaraiva.ipynb\" target=\"_parent\"><img src=\"https://colab.research.google.com/assets/colab-badge.svg\" alt=\"Open In Colab\"/></a>"
      ]
    },
    {
      "cell_type": "code",
      "execution_count": 1,
      "metadata": {
        "id": "m-VHOzRPENgy"
      },
      "outputs": [],
      "source": [
        "#Projeto scraping editora saraiva\n",
        "#baixando conteudo da pagina \n",
        "import requests\n",
        "from bs4 import BeautifulSoup\n",
        "\n",
        "#metodo get para pegar url e nome-livro\n",
        "def get_http(url, nome_livro):\n",
        "\n",
        "\n",
        "#Na variavel nome_livro onde tiver ' ' em branco deve receber %20\n",
        "\tnome_livro = nome_livro.replace(' ', '%20')\n",
        " \n",
        "#url = {0} para url e {1} para nome_ivro\n",
        "\turl = '{0}?q={1}'.format(url, nome_livro)\n",
        "\n",
        "#tratamento de excessoes\n",
        "\ttry:\n",
        "\t\treturn requests.get(url)\n",
        "\texcept (requests.exceptions.HTTPError,\n",
        "          requests.exceptions.RequestException,\n",
        "\t\t\t\t  requests.excepetions.ConnectionError,\n",
        "          requests.exceptions.Timeout) as e:\n",
        "\t\tprint(str(e))\n",
        "\t\tpass\n",
        "\texcept Exception as e:\n",
        "\t\traise\n",
        "\n",
        "if __name__ == '__main__':\n",
        "\n",
        "\turl = 'http://busca.saraiva.com.br/'\n",
        "\tnome_livro = 'redes de computadores'\n",
        "\n",
        "\tr = get_http(url, nome_livro)\n",
        "\n",
        "\twith open('result.html', 'w') as f:\n",
        "\t\tf.write(r.text)"
      ]
    },
    {
      "cell_type": "code",
      "source": [
        ""
      ],
      "metadata": {
        "id": "3dOagwNJFsaK"
      },
      "execution_count": null,
      "outputs": []
    },
    {
      "cell_type": "code",
      "source": [
        ""
      ],
      "metadata": {
        "id": "oDevLlcOFsXL"
      },
      "execution_count": null,
      "outputs": []
    },
    {
      "cell_type": "code",
      "source": [
        ""
      ],
      "metadata": {
        "id": "Fx28J7uAFsUa"
      },
      "execution_count": null,
      "outputs": []
    },
    {
      "cell_type": "code",
      "source": [
        ""
      ],
      "metadata": {
        "id": "G5bbhZbUFsRF"
      },
      "execution_count": null,
      "outputs": []
    },
    {
      "cell_type": "code",
      "source": [
        ""
      ],
      "metadata": {
        "id": "_53G7AYLFsOF"
      },
      "execution_count": null,
      "outputs": []
    },
    {
      "cell_type": "code",
      "source": [
        ""
      ],
      "metadata": {
        "id": "A59Ip38nFsLA"
      },
      "execution_count": null,
      "outputs": []
    },
    {
      "cell_type": "code",
      "source": [
        ""
      ],
      "metadata": {
        "id": "zQP6iq19FsIY"
      },
      "execution_count": null,
      "outputs": []
    },
    {
      "cell_type": "code",
      "source": [
        ""
      ],
      "metadata": {
        "id": "cxBX36OfFsFW"
      },
      "execution_count": null,
      "outputs": []
    },
    {
      "cell_type": "code",
      "source": [
        ""
      ],
      "metadata": {
        "id": "ksxeIMQSFsCC"
      },
      "execution_count": null,
      "outputs": []
    },
    {
      "cell_type": "code",
      "source": [
        ""
      ],
      "metadata": {
        "id": "2-kxfVjnFr-x"
      },
      "execution_count": null,
      "outputs": []
    },
    {
      "cell_type": "code",
      "source": [
        ""
      ],
      "metadata": {
        "id": "Z21K0aLyFr73"
      },
      "execution_count": null,
      "outputs": []
    }
  ]
}