{
  "cells": [
    {
      "cell_type": "markdown",
      "metadata": {
        "id": "view-in-github",
        "colab_type": "text"
      },
      "source": [
        "<a href=\"https://colab.research.google.com/github/marciocardoso123/DataScience/blob/main/Modelo_de_Regress%C3%A3o_Linear_Previs%C3%B5es_Quantitativas.ipynb\" target=\"_parent\"><img src=\"https://colab.research.google.com/assets/colab-badge.svg\" alt=\"Open In Colab\"/></a>"
      ]
    },
    {
      "cell_type": "markdown",
      "metadata": {
        "id": "z4vdyYXOxd_Z"
      },
      "source": [
        "### Importação dos módulos"
      ]
    },
    {
      "cell_type": "code",
      "execution_count": 19,
      "metadata": {
        "id": "Ej_vXibIxd_t"
      },
      "outputs": [],
      "source": [
        "import warnings\n",
        "warnings.filterwarnings('ignore')\n",
        "import pandas as pd\n",
        "from sklearn.model_selection import train_test_split\n",
        "from sklearn.linear_model import LinearRegression\n",
        "from sklearn import metrics\n",
        "import numpy as np"
      ]
    },
    {
      "cell_type": "code",
      "execution_count": 20,
      "metadata": {
        "id": "2eLv6zokxd_w"
      },
      "outputs": [],
      "source": [
        "testes = [['TV','radio', 'newspaper'],['radio', 'newspaper'], ['TV','newspaper'],['TV','radio']]\n",
        "vencedor = {'teste': '', 'performance': None}\n",
        "primeira_passagem = True\n",
        "publi = pd.read_csv('/content/Advertising.csv',index_col=0)"
      ]
    },
    {
      "cell_type": "code",
      "source": [
        "publi.shape"
      ],
      "metadata": {
        "colab": {
          "base_uri": "https://localhost:8080/"
        },
        "id": "I1P4ArF9yeg3",
        "outputId": "3f473503-dc92-427b-9fd0-5460ab778c7d"
      },
      "execution_count": 21,
      "outputs": [
        {
          "output_type": "execute_result",
          "data": {
            "text/plain": [
              "(200, 4)"
            ]
          },
          "metadata": {},
          "execution_count": 21
        }
      ]
    },
    {
      "cell_type": "code",
      "source": [
        "publi.head()"
      ],
      "metadata": {
        "colab": {
          "base_uri": "https://localhost:8080/",
          "height": 206
        },
        "id": "ejQ9dYFAyeXL",
        "outputId": "c7ca5d5d-3ce0-46fe-97cd-61f72bcfeace"
      },
      "execution_count": 22,
      "outputs": [
        {
          "output_type": "execute_result",
          "data": {
            "text/plain": [
              "      TV  Radio  Newspaper  Sales\n",
              "1  230.1   37.8       69.2   22.1\n",
              "2   44.5   39.3       45.1   10.4\n",
              "3   17.2   45.9       69.3    9.3\n",
              "4  151.5   41.3       58.5   18.5\n",
              "5  180.8   10.8       58.4   12.9"
            ],
            "text/html": [
              "\n",
              "  <div id=\"df-9656196f-8a1b-4f49-b17d-0633c8f95d91\">\n",
              "    <div class=\"colab-df-container\">\n",
              "      <div>\n",
              "<style scoped>\n",
              "    .dataframe tbody tr th:only-of-type {\n",
              "        vertical-align: middle;\n",
              "    }\n",
              "\n",
              "    .dataframe tbody tr th {\n",
              "        vertical-align: top;\n",
              "    }\n",
              "\n",
              "    .dataframe thead th {\n",
              "        text-align: right;\n",
              "    }\n",
              "</style>\n",
              "<table border=\"1\" class=\"dataframe\">\n",
              "  <thead>\n",
              "    <tr style=\"text-align: right;\">\n",
              "      <th></th>\n",
              "      <th>TV</th>\n",
              "      <th>Radio</th>\n",
              "      <th>Newspaper</th>\n",
              "      <th>Sales</th>\n",
              "    </tr>\n",
              "  </thead>\n",
              "  <tbody>\n",
              "    <tr>\n",
              "      <th>1</th>\n",
              "      <td>230.1</td>\n",
              "      <td>37.8</td>\n",
              "      <td>69.2</td>\n",
              "      <td>22.1</td>\n",
              "    </tr>\n",
              "    <tr>\n",
              "      <th>2</th>\n",
              "      <td>44.5</td>\n",
              "      <td>39.3</td>\n",
              "      <td>45.1</td>\n",
              "      <td>10.4</td>\n",
              "    </tr>\n",
              "    <tr>\n",
              "      <th>3</th>\n",
              "      <td>17.2</td>\n",
              "      <td>45.9</td>\n",
              "      <td>69.3</td>\n",
              "      <td>9.3</td>\n",
              "    </tr>\n",
              "    <tr>\n",
              "      <th>4</th>\n",
              "      <td>151.5</td>\n",
              "      <td>41.3</td>\n",
              "      <td>58.5</td>\n",
              "      <td>18.5</td>\n",
              "    </tr>\n",
              "    <tr>\n",
              "      <th>5</th>\n",
              "      <td>180.8</td>\n",
              "      <td>10.8</td>\n",
              "      <td>58.4</td>\n",
              "      <td>12.9</td>\n",
              "    </tr>\n",
              "  </tbody>\n",
              "</table>\n",
              "</div>\n",
              "      <button class=\"colab-df-convert\" onclick=\"convertToInteractive('df-9656196f-8a1b-4f49-b17d-0633c8f95d91')\"\n",
              "              title=\"Convert this dataframe to an interactive table.\"\n",
              "              style=\"display:none;\">\n",
              "        \n",
              "  <svg xmlns=\"http://www.w3.org/2000/svg\" height=\"24px\"viewBox=\"0 0 24 24\"\n",
              "       width=\"24px\">\n",
              "    <path d=\"M0 0h24v24H0V0z\" fill=\"none\"/>\n",
              "    <path d=\"M18.56 5.44l.94 2.06.94-2.06 2.06-.94-2.06-.94-.94-2.06-.94 2.06-2.06.94zm-11 1L8.5 8.5l.94-2.06 2.06-.94-2.06-.94L8.5 2.5l-.94 2.06-2.06.94zm10 10l.94 2.06.94-2.06 2.06-.94-2.06-.94-.94-2.06-.94 2.06-2.06.94z\"/><path d=\"M17.41 7.96l-1.37-1.37c-.4-.4-.92-.59-1.43-.59-.52 0-1.04.2-1.43.59L10.3 9.45l-7.72 7.72c-.78.78-.78 2.05 0 2.83L4 21.41c.39.39.9.59 1.41.59.51 0 1.02-.2 1.41-.59l7.78-7.78 2.81-2.81c.8-.78.8-2.07 0-2.86zM5.41 20L4 18.59l7.72-7.72 1.47 1.35L5.41 20z\"/>\n",
              "  </svg>\n",
              "      </button>\n",
              "      \n",
              "  <style>\n",
              "    .colab-df-container {\n",
              "      display:flex;\n",
              "      flex-wrap:wrap;\n",
              "      gap: 12px;\n",
              "    }\n",
              "\n",
              "    .colab-df-convert {\n",
              "      background-color: #E8F0FE;\n",
              "      border: none;\n",
              "      border-radius: 50%;\n",
              "      cursor: pointer;\n",
              "      display: none;\n",
              "      fill: #1967D2;\n",
              "      height: 32px;\n",
              "      padding: 0 0 0 0;\n",
              "      width: 32px;\n",
              "    }\n",
              "\n",
              "    .colab-df-convert:hover {\n",
              "      background-color: #E2EBFA;\n",
              "      box-shadow: 0px 1px 2px rgba(60, 64, 67, 0.3), 0px 1px 3px 1px rgba(60, 64, 67, 0.15);\n",
              "      fill: #174EA6;\n",
              "    }\n",
              "\n",
              "    [theme=dark] .colab-df-convert {\n",
              "      background-color: #3B4455;\n",
              "      fill: #D2E3FC;\n",
              "    }\n",
              "\n",
              "    [theme=dark] .colab-df-convert:hover {\n",
              "      background-color: #434B5C;\n",
              "      box-shadow: 0px 1px 3px 1px rgba(0, 0, 0, 0.15);\n",
              "      filter: drop-shadow(0px 1px 2px rgba(0, 0, 0, 0.3));\n",
              "      fill: #FFFFFF;\n",
              "    }\n",
              "  </style>\n",
              "\n",
              "      <script>\n",
              "        const buttonEl =\n",
              "          document.querySelector('#df-9656196f-8a1b-4f49-b17d-0633c8f95d91 button.colab-df-convert');\n",
              "        buttonEl.style.display =\n",
              "          google.colab.kernel.accessAllowed ? 'block' : 'none';\n",
              "\n",
              "        async function convertToInteractive(key) {\n",
              "          const element = document.querySelector('#df-9656196f-8a1b-4f49-b17d-0633c8f95d91');\n",
              "          const dataTable =\n",
              "            await google.colab.kernel.invokeFunction('convertToInteractive',\n",
              "                                                     [key], {});\n",
              "          if (!dataTable) return;\n",
              "\n",
              "          const docLinkHtml = 'Like what you see? Visit the ' +\n",
              "            '<a target=\"_blank\" href=https://colab.research.google.com/notebooks/data_table.ipynb>data table notebook</a>'\n",
              "            + ' to learn more about interactive tables.';\n",
              "          element.innerHTML = '';\n",
              "          dataTable['output_type'] = 'display_data';\n",
              "          await google.colab.output.renderOutput(dataTable, element);\n",
              "          const docLink = document.createElement('div');\n",
              "          docLink.innerHTML = docLinkHtml;\n",
              "          element.appendChild(docLink);\n",
              "        }\n",
              "      </script>\n",
              "    </div>\n",
              "  </div>\n",
              "  "
            ]
          },
          "metadata": {},
          "execution_count": 22
        }
      ]
    },
    {
      "cell_type": "code",
      "source": [
        "#SEPARANDO COLUNAS\n",
        "x = publi[['TV','Radio','Newspaper']]\n",
        "y = publi['Sales']"
      ],
      "metadata": {
        "id": "GIJjYSK9y8i4"
      },
      "execution_count": 23,
      "outputs": []
    },
    {
      "cell_type": "code",
      "source": [
        "x.shape\n",
        "#y.shape"
      ],
      "metadata": {
        "id": "cRiQcs4x2HPJ",
        "colab": {
          "base_uri": "https://localhost:8080/"
        },
        "outputId": "fdec89d4-940d-4322-e7e0-099ec9c9be61"
      },
      "execution_count": 24,
      "outputs": [
        {
          "output_type": "execute_result",
          "data": {
            "text/plain": [
              "(200, 3)"
            ]
          },
          "metadata": {},
          "execution_count": 24
        }
      ]
    },
    {
      "cell_type": "code",
      "source": [
        "import seaborn as sns"
      ],
      "metadata": {
        "id": "ZpJkeLWZ2HMP"
      },
      "execution_count": 25,
      "outputs": []
    },
    {
      "cell_type": "code",
      "source": [
        "#Gerando graficos para cada variavel independente!\n",
        "sns.pairplot(publi, x_vars=['TV','Radio','Newspaper'],  y_vars='Sales', size = 6 , kind='reg')"
      ],
      "metadata": {
        "colab": {
          "base_uri": "https://localhost:8080/",
          "height": 461
        },
        "id": "mwHFDVRs2HJB",
        "outputId": "c2356e77-befd-4492-e927-7f1d035247c0"
      },
      "execution_count": 26,
      "outputs": [
        {
          "output_type": "execute_result",
          "data": {
            "text/plain": [
              "<seaborn.axisgrid.PairGrid at 0x7fdcb07e2210>"
            ]
          },
          "metadata": {},
          "execution_count": 26
        },
        {
          "output_type": "display_data",
          "data": {
            "text/plain": [
              "<Figure size 1296x432 with 3 Axes>"
            ],
            "image/png": "[encoded data removed]"
          },
          "metadata": {
            "needs_background": "light"
          }
        }
      ]
    },
    {
      "cell_type": "code",
      "source": [
        "#Podemos definir que qunto maior investimento em propaganda maior será as vendas!"
      ],
      "metadata": {
        "id": "yomrlDfty8Ox"
      },
      "execution_count": 27,
      "outputs": []
    },
    {
      "cell_type": "code",
      "source": [
        "#Vamos dividir os dados em treino e teste\n",
        "from sklearn.model_selection import train_test_split\n",
        "x_train , x_test, y_train, y_test = train_test_split(x,y,test_size=0.3)"
      ],
      "metadata": {
        "id": "HkSOr5DW40ei"
      },
      "execution_count": 28,
      "outputs": []
    },
    {
      "cell_type": "code",
      "source": [
        "##Importação do modelo linear\n",
        "from sklearn.linear_model import LinearRegression\n",
        "reglin = LinearRegression()\n",
        "reglin.fit(x_train,y_train)"
      ],
      "metadata": {
        "colab": {
          "base_uri": "https://localhost:8080/"
        },
        "id": "2y7oNVt340bR",
        "outputId": "87e248f6-32cf-483c-a5fb-3e206e3645a3"
      },
      "execution_count": 29,
      "outputs": [
        {
          "output_type": "execute_result",
          "data": {
            "text/plain": [
              "LinearRegression()"
            ]
          },
          "metadata": {},
          "execution_count": 29
        }
      ]
    },
    {
      "cell_type": "markdown",
      "source": [
        "##Coeficiente:\n",
        " Proporção de aumento nas vendas para cada 1 un investida em publicidade"
      ],
      "metadata": {
        "id": "a9v4BZo37r1h"
      }
    },
    {
      "cell_type": "code",
      "source": [
        "list(zip(['TV','Radio','Newspaper'],reglin.coef_))"
      ],
      "metadata": {
        "colab": {
          "base_uri": "https://localhost:8080/"
        },
        "id": "MLQo6lJL40Xs",
        "outputId": "4b2fc76e-23bd-4b75-ccca-eb7d7a0b57ea"
      },
      "execution_count": 30,
      "outputs": [
        {
          "output_type": "execute_result",
          "data": {
            "text/plain": [
              "[('TV', 0.04335917670908946),\n",
              " ('Radio', 0.1899904120212213),\n",
              " ('Newspaper', -0.007430897050044516)]"
            ]
          },
          "metadata": {},
          "execution_count": 30
        }
      ]
    },
    {
      "cell_type": "markdown",
      "source": [
        "###Previsão \n"
      ],
      "metadata": {
        "id": "tVlOwhRg8Rz6"
      }
    },
    {
      "cell_type": "code",
      "source": [
        "print(reglin.predict([[230.1,37.8,69.2]]))"
      ],
      "metadata": {
        "id": "GBOXBDBB6onA"
      },
      "execution_count": null,
      "outputs": []
    },
    {
      "cell_type": "code",
      "source": [
        "y_prev = reglin.predict(x_test)\n",
        "print(y_prev)"
      ],
      "metadata": {
        "id": "V-ishdSw6oir",
        "colab": {
          "base_uri": "https://localhost:8080/"
        },
        "outputId": "044d773b-8aaa-46c7-cd25-58b8d93ca4f3"
      },
      "execution_count": 34,
      "outputs": [
        {
          "output_type": "stream",
          "name": "stdout",
          "text": [
            "[14.09718146 12.29542179 16.94944296 16.03717792 22.18379974  6.75506352\n",
            " 18.93277094  9.97888468 22.65627038 18.90591418 11.47396476 20.15146507\n",
            " 20.90983457  7.88834369 14.97895545 13.43600279  8.69363523 18.8822706\n",
            " 20.26052681 20.35728429  5.60276049 19.60477084 23.56330779 15.42707935\n",
            " 15.37189475 12.39230079  6.57063799  9.6625638  11.56569789  9.9076432\n",
            " 15.18945249 10.63431502 17.50496477 24.33209748 12.34104654  9.17636863\n",
            " 10.83534473  8.850962   14.62803313 21.10163856  9.36925202 17.90857909\n",
            "  4.62586027  7.90944905 12.82421601 20.48785312 12.86035211 12.56185644\n",
            " 12.73994916 10.0310049  19.70330452 18.71157044  9.82651695 20.52162942\n",
            " 16.46386068 12.19540851 22.38189519 11.18044952 18.10449305 13.71677924]\n"
          ]
        }
      ]
    },
    {
      "cell_type": "markdown",
      "source": [
        "##Medindo a distancia da previsão com o valores reais"
      ],
      "metadata": {
        "id": "VnLjL6-vAuAM"
      }
    },
    {
      "cell_type": "code",
      "source": [
        "#Avaliando a performance\n",
        "#MAE (Mean absolute error)\n",
        "from sklearn import metrics\n"
      ],
      "metadata": {
        "id": "LBzd_iZ6AmCD"
      },
      "execution_count": 36,
      "outputs": []
    },
    {
      "cell_type": "code",
      "source": [
        "print(metrics.mean_absolute_error(y_test,y_prev))"
      ],
      "metadata": {
        "colab": {
          "base_uri": "https://localhost:8080/"
        },
        "id": "p8dzxrMPB66B",
        "outputId": "6f804906-b143-4701-e658-09c1f18b3241"
      },
      "execution_count": 38,
      "outputs": [
        {
          "output_type": "stream",
          "name": "stdout",
          "text": [
            "1.2719962994902425\n"
          ]
        }
      ]
    },
    {
      "cell_type": "markdown",
      "source": [
        "##MSE (Mean squared error)"
      ],
      "metadata": {
        "id": "cHcLnE6rCSGk"
      }
    },
    {
      "cell_type": "code",
      "source": [
        "print(metrics.mean_squared_error(y_test,y_prev))"
      ],
      "metadata": {
        "colab": {
          "base_uri": "https://localhost:8080/"
        },
        "id": "lprIC8vJB6yM",
        "outputId": "ed5bc61d-c47b-46de-9d15-061fb1b9c1a0"
      },
      "execution_count": 39,
      "outputs": [
        {
          "output_type": "stream",
          "name": "stdout",
          "text": [
            "3.299929734136301\n"
          ]
        }
      ]
    },
    {
      "cell_type": "markdown",
      "source": [
        "##RMSE (Root mean squared error)"
      ],
      "metadata": {
        "id": "H3qjJH4GC93f"
      }
    },
    {
      "cell_type": "code",
      "source": [
        "import numpy as np\n",
        "\n",
        "print(np.sqrt(metrics.mean_squared_error(y_test,y_prev)))"
      ],
      "metadata": {
        "colab": {
          "base_uri": "https://localhost:8080/"
        },
        "id": "gvUefWufB6uz",
        "outputId": "7767dc53-f968-4b38-a557-1e12f2c636cf"
      },
      "execution_count": 42,
      "outputs": [
        {
          "output_type": "stream",
          "name": "stdout",
          "text": [
            "1.8165708723130791\n"
          ]
        }
      ]
    },
    {
      "cell_type": "code",
      "source": [
        ""
      ],
      "metadata": {
        "id": "rOyYPM7LB6mY"
      },
      "execution_count": 40,
      "outputs": []
    },
    {
      "cell_type": "code",
      "source": [
        ""
      ],
      "metadata": {
        "id": "aLGmZiSsAl3r"
      },
      "execution_count": null,
      "outputs": []
    },
    {
      "cell_type": "code",
      "source": [
        ""
      ],
      "metadata": {
        "id": "lhQ1UwIbAl0J"
      },
      "execution_count": null,
      "outputs": []
    },
    {
      "cell_type": "code",
      "execution_count": null,
      "metadata": {
        "id": "N-LhagCSxd_x"
      },
      "outputs": [],
      "source": [
        "for teste in testes:\n",
        "    x = publi[teste]\n",
        "    y = publi['sales']\n",
        "    x_train, x_test, y_train, y_test = train_test_split(x,y,test_size=0.30,random_state=5)\n",
        "    reglin = LinearRegression()\n",
        "    reglin.fit(x_train,y_train)\n",
        "    y_prev = reglin.predict(x_test)\n",
        "    rmse = np.sqrt(metrics.mean_squared_error(y_test,y_prev))\n",
        "    print('Teste: ')\n",
        "    print(teste)\n",
        "    print('Performance: ')\n",
        "    print(rmse)\n",
        "    print('-----------------')\n",
        "    if (primeira_passagem):\n",
        "        vencedor['teste'] = teste\n",
        "        vencedor['performance'] = rmse\n",
        "        primeira_passagem = False\n",
        "    else:\n",
        "        if (rmse < vencedor['performance']):\n",
        "            vencedor['teste'] = teste\n",
        "            vencedor['performance'] = rmse\n",
        "\n",
        "print('-----------------') \n",
        "print('Vencedor: ')\n",
        "print(vencedor['teste'])\n",
        "print('Performance do vencedor: ')\n",
        "print(vencedor['performance'])"
      ]
    },
    {
      "cell_type": "code",
      "execution_count": null,
      "metadata": {
        "id": "PZeWbrCLxd_z"
      },
      "outputs": [],
      "source": [
        ""
      ]
    }
  ],
  "metadata": {
    "kernelspec": {
      "display_name": "Python 3",
      "language": "python",
      "name": "python3"
    },
    "language_info": {
      "codemirror_mode": {
        "name": "ipython",
        "version": 3
      },
      "file_extension": ".py",
      "mimetype": "text/x-python",
      "name": "python",
      "nbconvert_exporter": "python",
      "pygments_lexer": "ipython3",
      "version": "3.6.5"
    },
    "colab": {
      "name": "Modelo_de_Regressão_Linear_Previsões_Quantitativas.ipynb",
      "provenance": [],
      "collapsed_sections": [],
      "include_colab_link": true
    }
  },
  "nbformat": 4,
  "nbformat_minor": 0
}